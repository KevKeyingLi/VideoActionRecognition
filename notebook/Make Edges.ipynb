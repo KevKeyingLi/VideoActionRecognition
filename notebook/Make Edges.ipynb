{
 "cells": [
  {
   "cell_type": "markdown",
   "metadata": {},
   "source": [
    "This note book focus on developing and experiementing with different methods to generate edges. Basically:\n",
    "* based on time overlap\n",
    "* based on feature\n",
    "\n",
    "Basic idea:\n",
    "* nested loop to go over each pair of node and compute if there is an edge\n",
    "* present the graph using adjacent list\n",
    "* make it symmetric\n",
    "\n",
    "\n",
    "## Edge generator according to overlaping\n",
    "Design idea:\n",
    "* The generator function: \n",
    "    + mainly nested loop to go through all the nodes pairs,\n",
    "    + call the compute_distance function to compute the distance, and decide whether there is an edge\n",
    "    + form the adjacent list\n",
    "    + call the make symetric function\n",
    "    + save the graph representation\n",
    "* the compute distance method - based on overlaping\n",
    "* make symetric function: **Maybe make symetric on the go**\n",
    "\n",
    "## A modification:\n",
    "I would like to right a general function for generating edges, and one of the arguments would be the distance function"
   ]
  },
  {
   "cell_type": "code",
   "execution_count": 4,
   "metadata": {
    "collapsed": true
   },
   "outputs": [],
   "source": [
    "import cPickle\n",
    "import time\n",
    "BASE_DIR = '/Users/baroc/repos/VideoActionRecognition/'"
   ]
  },
  {
   "cell_type": "markdown",
   "metadata": {},
   "source": [
    "This snippet below should not be in here, I should have pickled it together with the instances"
   ]
  },
  {
   "cell_type": "code",
   "execution_count": 7,
   "metadata": {
    "collapsed": true
   },
   "outputs": [],
   "source": [
    "#  Out dated\n",
    "class Node:\n",
    "    def __init__(self, start, end, fps, videoname):\n",
    "        self.id = 0;\n",
    "        self.start = start\n",
    "        self.end = end\n",
    "        self.fps = fps\n",
    "        self.videoname = videoname \n",
    "        self.trajectories = []\n",
    "        self.features = dict()\n",
    "        # contains six lists of what features are avaible. This info can be used to compute the histogram\n",
    "        # use numpy.histogram or scipy.stat.histogram\n",
    "        self.features['mean_x'] = []\n",
    "        self.features['mean_y'] = []\n",
    "        self.features['traj_idx'] = []\n",
    "        self.features['hog'] = []\n",
    "        self.features['hof'] = []\n",
    "        self.features['mbh'] = []\n",
    "        self.allOverLapLabels = dict() # a dictionary of {overlapping label: [lb_str_t, lb_end_t], overlap}\n",
    "        self.labels = [] # only the labels that are considered positive.\n",
    "        # add groud truth\n",
    "        \n",
    "    def add_trajectory(self, traj):\n",
    "        self.trajectories.append(traj)\n",
    "    def add_label(self, tlabel_info, overlap): # \n",
    "        # add to allOverLapLabels\n",
    "        # tlabel_info = ['video_validation_0000051', [67.5, 75.9], 'Billiards']\n",
    "        if tlabel_info[2] in self.allOverLapLabels:\n",
    "            self.allOverLapLabels[tlabel_info[2]].append([tlabel_info[1],overlap])\n",
    "        else:\n",
    "            self.allOverLapLabels[tlabel_info[2]] = [[tlabel_info[1],overlap]]\n",
    "#             self.allOverLapLabels[tlabel_info[2]].append([tlabel_info[1],overlap])\n",
    "        # add to labels\n",
    "        if overlap>0.5:\n",
    "            self.labels.append(tlabel_info[2]) # it is possible that there are multiple same label for a node.\n",
    "    def record_feature(self):\n",
    "        ###########\n",
    "        # this method currently counts all existence, and don't take into account the coverage of each trajectory\n",
    "        # if need the coverage info in the future, can simply modify to:\n",
    "        # self.feature_cnt['mean_x'].append([traj.mean_x,traj.coverage])\n",
    "        for traj in self.trajectories:\n",
    "            self.features['mean_x'].append(traj.mean_x)\n",
    "            self.features['mean_y'].append(traj.mean_y)\n",
    "            self.features['traj_idx'].append(traj.traj_idx)\n",
    "            self.features['hog'].append(traj.hog)\n",
    "            self.features['hof'].append(traj.hof)\n",
    "            self.features['mbh'].append(traj.mbh)\n",
    "        return\n",
    "    def set_id(self, idx):\n",
    "        self.id = idx\n",
    "class Trajectory:\n",
    "    def __init__(self, frame_num, mean_x, mean_y, traj_idx, hog, hof, mbh, coverage):\n",
    "        self.frame_num  = frame_num \n",
    "        self.mean_x  = mean_x \n",
    "        self.mean_y  = mean_y \n",
    "        self.traj_idx  = traj_idx \n",
    "        self.hog  = hog\n",
    "        self.hof  = hof\n",
    "        self.mbh  = mbh\n",
    "        self.coverage = coverage # The portion of trajectory included in the window\n"
   ]
  },
  {
   "cell_type": "code",
   "execution_count": 8,
   "metadata": {
    "collapsed": false
   },
   "outputs": [
    {
     "name": "stdout",
     "output_type": "stream",
     "text": [
      "25.9344251156\n"
     ]
    }
   ],
   "source": [
    "cPFile = open(BASE_DIR+\"video_validation_0000163.p\", 'rb')\n",
    "# video_validation_0000163\n",
    "t = time.time()\n",
    "node_list = cPickle.load(cPFile)\n",
    "print time.time() - t # 21.7929811478s"
   ]
  },
  {
   "cell_type": "code",
   "execution_count": 14,
   "metadata": {
    "collapsed": false,
    "scrolled": false
   },
   "outputs": [
    {
     "data": {
      "text/plain": [
       "5"
      ]
     },
     "execution_count": 14,
     "metadata": {},
     "output_type": "execute_result"
    }
   ],
   "source": [
    "# len(node_list)\n",
    "# node_list[5].id"
   ]
  },
  {
   "cell_type": "code",
   "execution_count": null,
   "metadata": {
    "collapsed": true
   },
   "outputs": [],
   "source": [
    "def temporal_distance(nodeA, nodeB):\n",
    "    # Larger means more overlap: 0-1, simply percentage of the window\n",
    "    if nodeA.start < nodeB.end and nodeB.start < nodeA.end:\n",
    "        # overlap\n",
    "        if nodeA.start < nodeB.start:\n",
    "            lstart = nodeB.start\n",
    "            sstart = nodeA.start\n",
    "        else:\n",
    "            lstart = nodeA.start\n",
    "            sstart = nodeB.start\n",
    "        if nodeA.end < nodeB.end:\n",
    "            lend = nodeB.end\n",
    "            send = nodeA.end\n",
    "        else:\n",
    "            lend = nodeA.end\n",
    "            send = nodeB.end\n",
    "        return float(send - lstart)/(nodeA.end - nodeA.start)\n",
    "    else:\n",
    "        return 0\n",
    "    "
   ]
  },
  {
   "cell_type": "code",
   "execution_count": null,
   "metadata": {
    "collapsed": true
   },
   "outputs": [],
   "source": [
    "def feature_distance(nodeA, nodeB, delta = 1):\n",
    "    return"
   ]
  },
  {
   "cell_type": "code",
   "execution_count": null,
   "metadata": {
    "collapsed": true
   },
   "outputs": [],
   "source": [
    "def build_edge(node_list) # top K"
   ]
  },
  {
   "cell_type": "code",
   "execution_count": null,
   "metadata": {
    "collapsed": true
   },
   "outputs": [],
   "source": []
  },
  {
   "cell_type": "markdown",
   "metadata": {},
   "source": [
    "Note here, need to define the node_id for each node. node_id = idx should be good."
   ]
  },
  {
   "cell_type": "markdown",
   "metadata": {},
   "source": [
    "## Edge generator according to feature distance.\n",
    "Design idea:\n",
    "* The generator function: \n",
    "    + mainly nested loop to go through all the nodes pairs,\n",
    "    + call the compute_distance function to compute the distance, and decide whether there is an edge\n",
    "    + form the adjacent list\n",
    "    + call the make symetric function\n",
    "    + save the graph representation\n",
    "* the compute distance method - based on feature similarity fuction\n",
    "* make symetric function: **Maybe make symetric on the go**\n",
    "\n",
    "### Question \n",
    "* how to represent the graph: adjacent list, but contain node? or just node ID \n"
   ]
  },
  {
   "cell_type": "code",
   "execution_count": null,
   "metadata": {
    "collapsed": true
   },
   "outputs": [],
   "source": [
    "def "
   ]
  },
  {
   "cell_type": "code",
   "execution_count": null,
   "metadata": {
    "collapsed": true
   },
   "outputs": [],
   "source": []
  },
  {
   "cell_type": "markdown",
   "metadata": {},
   "source": [
    "this part is used to test the node generation algorithm；\n"
   ]
  },
  {
   "cell_type": "code",
   "execution_count": 17,
   "metadata": {
    "collapsed": false
   },
   "outputs": [
    {
     "ename": "ImportError",
     "evalue": "No module named node_generator",
     "output_type": "error",
     "traceback": [
      "\u001b[0;31m---------------------------------------------------------------------------\u001b[0m",
      "\u001b[0;31mImportError\u001b[0m                               Traceback (most recent call last)",
      "\u001b[0;32m<ipython-input-17-b335ac2a30d2>\u001b[0m in \u001b[0;36m<module>\u001b[0;34m()\u001b[0m\n\u001b[0;32m----> 1\u001b[0;31m \u001b[0;32mimport\u001b[0m \u001b[0mnode_generator\u001b[0m\u001b[0;34m\u001b[0m\u001b[0m\n\u001b[0m\u001b[1;32m      2\u001b[0m \u001b[0mcPFile\u001b[0m \u001b[0;34m=\u001b[0m \u001b[0mopen\u001b[0m\u001b[0;34m(\u001b[0m\u001b[0mBASE_DIR\u001b[0m\u001b[0;34m+\u001b[0m\u001b[0;34m\"validation_video_nodes.p\"\u001b[0m\u001b[0;34m,\u001b[0m \u001b[0;34m'rb'\u001b[0m\u001b[0;34m)\u001b[0m\u001b[0;34m\u001b[0m\u001b[0m\n\u001b[1;32m      3\u001b[0m \u001b[0;31m# video_validation_0000163\u001b[0m\u001b[0;34m\u001b[0m\u001b[0;34m\u001b[0m\u001b[0m\n\u001b[1;32m      4\u001b[0m \u001b[0mt\u001b[0m \u001b[0;34m=\u001b[0m \u001b[0mtime\u001b[0m\u001b[0;34m.\u001b[0m\u001b[0mtime\u001b[0m\u001b[0;34m(\u001b[0m\u001b[0;34m)\u001b[0m\u001b[0;34m\u001b[0m\u001b[0m\n\u001b[1;32m      5\u001b[0m \u001b[0mnode_list\u001b[0m \u001b[0;34m=\u001b[0m \u001b[0mcPickle\u001b[0m\u001b[0;34m.\u001b[0m\u001b[0mload\u001b[0m\u001b[0;34m(\u001b[0m\u001b[0mcPFile\u001b[0m\u001b[0;34m)\u001b[0m\u001b[0;34m\u001b[0m\u001b[0m\n",
      "\u001b[0;31mImportError\u001b[0m: No module named node_generator"
     ]
    }
   ],
   "source": []
  },
  {
   "cell_type": "code",
   "execution_count": null,
   "metadata": {
    "collapsed": true
   },
   "outputs": [],
   "source": []
  }
 ],
 "metadata": {
  "kernelspec": {
   "display_name": "Python 2",
   "language": "python",
   "name": "python2"
  },
  "language_info": {
   "codemirror_mode": {
    "name": "ipython",
    "version": 2
   },
   "file_extension": ".py",
   "mimetype": "text/x-python",
   "name": "python",
   "nbconvert_exporter": "python",
   "pygments_lexer": "ipython2",
   "version": "2.7.12"
  }
 },
 "nbformat": 4,
 "nbformat_minor": 1
}
