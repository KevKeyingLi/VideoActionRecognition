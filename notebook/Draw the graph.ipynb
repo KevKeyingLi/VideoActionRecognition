{
 "cells": [
  {
   "cell_type": "markdown",
   "metadata": {},
   "source": []
  },
  {
   "cell_type": "markdown",
   "metadata": {},
   "source": [
    "Prepare the environment"
   ]
  },
  {
   "cell_type": "code",
   "execution_count": 14,
   "metadata": {
    "collapsed": true
   },
   "outputs": [],
   "source": [
    "from pprint import pprint\n",
    "from scipy import io as sio\n",
    "import numpy as np\n",
    "import time\n",
    "from pprint import pprint\n",
    "import matplotlib.pyplot as plt\n",
    "BASE_DIR = '/Users/baroc/repos/VideoActionRecognition/'\n",
    "\n",
    "import sys\n",
    "sys.path.append(BASE_DIR+'src/')\n",
    "from node_generator import Node"
   ]
  },
  {
   "cell_type": "code",
   "execution_count": 3,
   "metadata": {
    "collapsed": true
   },
   "outputs": [],
   "source": [
    "import cPickle\n",
    "import time\n",
    "# import math\n",
    "# import heapq as pq\n",
    "# from operator import itemgetter"
   ]
  },
  {
   "cell_type": "code",
   "execution_count": 4,
   "metadata": {
    "collapsed": false
   },
   "outputs": [
    {
     "name": "stdout",
     "output_type": "stream",
     "text": [
      "4.13775014877\n"
     ]
    }
   ],
   "source": [
    "NODE_EDGE_DIR = BASE_DIR + \"validation_node_edge/\"\n",
    "cPFile = open(NODE_EDGE_DIR+\"validation_video_nodes.p\", 'rb')\n",
    "t = time.time()\n",
    "node_list = cPickle.load(cPFile)\n",
    "print time.time() - t "
   ]
  },
  {
   "cell_type": "code",
   "execution_count": 5,
   "metadata": {
    "collapsed": false
   },
   "outputs": [
    {
     "name": "stdout",
     "output_type": "stream",
     "text": [
      "0.160370826721\n"
     ]
    }
   ],
   "source": [
    "tFile = open(NODE_EDGE_DIR+\"adj_list_by_temporal.p\", 'rb')\n",
    "t = time.time()\n",
    "t_adj_list = cPickle.load(tFile)\n",
    "print time.time() - t "
   ]
  },
  {
   "cell_type": "code",
   "execution_count": 6,
   "metadata": {
    "collapsed": false
   },
   "outputs": [
    {
     "name": "stdout",
     "output_type": "stream",
     "text": [
      "0.258911132812\n"
     ]
    }
   ],
   "source": [
    "fFile = open(NODE_EDGE_DIR+\"adj_list_by_feature_k_7_sigma_2000.p\", 'rb')\n",
    "t = time.time()\n",
    "f_adj_list = cPickle.load(fFile)\n",
    "print time.time() - t "
   ]
  },
  {
   "cell_type": "markdown",
   "metadata": {},
   "source": [
    "Finished loading the nodes in 4.27256393433 seconds, temporal adjacent list 0.169546127319 seconds, feature adjacent list 0.295833110809 secondes\n",
    "\n",
    "Next step sort the nodes"
   ]
  },
  {
   "cell_type": "markdown",
   "metadata": {},
   "source": [
    "    # labels_id = [[node.labels,node.id] for node in node_list if len(node.labels)>0]\n",
    "\n",
    "    # pprint(labels_id)\n",
    "\n",
    "    # print [node.id for node in node_list]"
   ]
  },
  {
   "cell_type": "code",
   "execution_count": 7,
   "metadata": {
    "collapsed": true
   },
   "outputs": [],
   "source": [
    "for i,node in enumerate(node_list):\n",
    "        node.set_id(i)"
   ]
  },
  {
   "cell_type": "markdown",
   "metadata": {},
   "source": [
    "## !!!The node id in the generated nodes are not right ?! why?!"
   ]
  },
  {
   "cell_type": "code",
   "execution_count": 8,
   "metadata": {
    "collapsed": false
   },
   "outputs": [],
   "source": [
    "labels_id = []\n",
    "for node in node_list:\n",
    "    if len(node.labels) == 1:\n",
    "        labels_id.append([node.labels[0],node.id])\n",
    "    elif len(node.labels) > 1:\n",
    "        for label in node.labels:\n",
    "            labels_id.append([label,node.id])\n",
    "    else:\n",
    "        labels_id.append(['_back_ground',node.id])\n",
    "labels_id = sorted(labels_id)\n"
   ]
  },
  {
   "cell_type": "markdown",
   "metadata": {},
   "source": [
    "    pprint((labels_id))\n",
    "    pprint(len(node_list))"
   ]
  },
  {
   "cell_type": "markdown",
   "metadata": {},
   "source": [
    "    f_adj_list[12202]"
   ]
  },
  {
   "cell_type": "markdown",
   "metadata": {},
   "source": [
    "Now generate the matrix which will be plotted, before that we first need to generate a dictionary mapping the node id to their idx in the matrix. "
   ]
  },
  {
   "cell_type": "code",
   "execution_count": 9,
   "metadata": {
    "collapsed": true
   },
   "outputs": [],
   "source": [
    "idx_dict = dict()\n",
    "i = 0\n",
    "for node in labels_id:\n",
    "    if node[1] not in idx_dict:\n",
    "        idx_dict[node[1]] = []\n",
    "    idx_dict[node[1]].append(i)\n",
    "    i +=1"
   ]
  },
  {
   "cell_type": "markdown",
   "metadata": {},
   "source": [
    "    f_adj_list[:2]"
   ]
  },
  {
   "cell_type": "code",
   "execution_count": 10,
   "metadata": {
    "collapsed": false
   },
   "outputs": [],
   "source": [
    "f_mat = np.zeros([len(labels_id),len(labels_id)])\n",
    "i = 0\n",
    "for node in labels_id:\n",
    "    adlist = f_adj_list[node[1]]\n",
    "    for edge in adlist:\n",
    "        idx = idx_dict[edge[1]]\n",
    "        f_mat[i][idx] = 1\n",
    "    i += 1"
   ]
  },
  {
   "cell_type": "code",
   "execution_count": 11,
   "metadata": {
    "collapsed": true
   },
   "outputs": [],
   "source": [
    "t_mat = np.zeros([len(labels_id),len(labels_id)])\n",
    "i = 0\n",
    "for node in labels_id:\n",
    "    adlist = t_adj_list[node[1]]\n",
    "    for edge in adlist:\n",
    "        idx = idx_dict[edge[1]]\n",
    "        t_mat[i][idx] = 1\n",
    "    i += 1"
   ]
  },
  {
   "cell_type": "code",
   "execution_count": 11,
   "metadata": {
    "collapsed": true
   },
   "outputs": [],
   "source": [
    "# plt.matshow(f_mat)\n",
    "# Display a random matrix with a specified figure number and a grayscale\n",
    "# colormap\n",
    "# plt.matshow(np.random.rand(64, 64), fignum=100, cmap=plt.cm.gray)\n",
    "# plt.savefig('matrix.bmp')\n",
    "# plt.show()"
   ]
  },
  {
   "cell_type": "code",
   "execution_count": 13,
   "metadata": {
    "collapsed": false
   },
   "outputs": [],
   "source": [
    "fig = plt.figure()\n",
    "plt.matshow(f_mat,cmap='Greys')\n",
    "plt.savefig('f_matrix3000.png', dpi=3000)"
   ]
  },
  {
   "cell_type": "code",
   "execution_count": 13,
   "metadata": {
    "collapsed": true
   },
   "outputs": [],
   "source": [
    "fig = plt.figure()\n",
    "plt.matshow(t_mat,cmap='Greys')\n",
    "plt.savefig('t_matrix2000.png', dpi=2000)"
   ]
  },
  {
   "cell_type": "code",
   "execution_count": 14,
   "metadata": {
    "collapsed": true
   },
   "outputs": [],
   "source": [
    "plt.savefig('t_matrix2500.png', dpi=2500)"
   ]
  },
  {
   "cell_type": "code",
   "execution_count": 16,
   "metadata": {
    "collapsed": false
   },
   "outputs": [],
   "source": [
    "plt.savefig('matrix.png', dpi=1000)"
   ]
  },
  {
   "cell_type": "code",
   "execution_count": 17,
   "metadata": {
    "collapsed": true
   },
   "outputs": [],
   "source": [
    "# plt.savefig('matrix.bmp', dpi=1000)\n",
    "# Not good"
   ]
  },
  {
   "cell_type": "code",
   "execution_count": 20,
   "metadata": {
    "collapsed": true
   },
   "outputs": [],
   "source": [
    "plt.savefig('matrix2000.png', dpi=2000)"
   ]
  },
  {
   "cell_type": "code",
   "execution_count": 15,
   "metadata": {
    "collapsed": true
   },
   "outputs": [],
   "source": [
    "plt.savefig('t_matrix3000.png', dpi=3000)"
   ]
  },
  {
   "cell_type": "code",
   "execution_count": null,
   "metadata": {
    "collapsed": true
   },
   "outputs": [],
   "source": [
    "plt.savefig('matrix4000.png', dpi=4000)"
   ]
  },
  {
   "cell_type": "code",
   "execution_count": null,
   "metadata": {
    "collapsed": false
   },
   "outputs": [],
   "source": [
    "# sio.savemat('matrix.mat', {'f_matrix':f_mat,'t_matrix':t_mat})"
   ]
  },
  {
   "cell_type": "code",
   "execution_count": 12,
   "metadata": {
    "collapsed": true
   },
   "outputs": [],
   "source": [
    "cPickle.dump( {'f_matrix':f_mat,'t_matrix':t_mat}, open( NODE_EDGE_DIR +\"mats.p\", \"wb\" ) )"
   ]
  },
  {
   "cell_type": "code",
   "execution_count": 16,
   "metadata": {
    "collapsed": false,
    "scrolled": true
   },
   "outputs": [
    {
     "data": {
      "text/plain": [
       "1662"
      ]
     },
     "execution_count": 16,
     "metadata": {},
     "output_type": "execute_result"
    }
   ],
   "source": [
    "labeled_nodes = []\n",
    "for node in node_list:\n",
    "    if len(node.labels) == 1:\n",
    "        labeled_nodes.append([node.labels[0],node.id])\n",
    "    elif len(node.labels) > 1:\n",
    "        for label in node.labels:\n",
    "            labeled_nodes.append([label,node.id])\n",
    "len(labeled_nodes)"
   ]
  },
  {
   "cell_type": "code",
   "execution_count": 12,
   "metadata": {
    "collapsed": false
   },
   "outputs": [],
   "source": [
    "fig = plt.figure()\n",
    "plt.matshow(f_mat[:1662,:1662],cmap='Greys')\n",
    "plt.savefig('f_matrix_positive3000.png', dpi=3000)"
   ]
  },
  {
   "cell_type": "code",
   "execution_count": 41,
   "metadata": {
    "collapsed": false
   },
   "outputs": [],
   "source": [
    "fig = plt.figure()\n",
    "plt.matshow(t_mat[:1662,:1662],cmap='Greys')\n",
    "plt.savefig('t_matrix_positive3000.png', dpi=3000)"
   ]
  },
  {
   "cell_type": "code",
   "execution_count": 29,
   "metadata": {
    "collapsed": true
   },
   "outputs": [],
   "source": [
    "# idx_dict_positive = dict()\n",
    "# i = 0\n",
    "# for node in labeled_nodes:\n",
    "#     if node[1] not in idx_dict_positive:\n",
    "#         idx_dict_positive[node[1]] = []\n",
    "#     idx_dict_positive[node[1]].append(i)\n",
    "#     i +=1"
   ]
  },
  {
   "cell_type": "code",
   "execution_count": 31,
   "metadata": {
    "collapsed": false
   },
   "outputs": [],
   "source": [
    "# f_mat_labeled = np.zeros([len(labeled_nodes),len(labeled_nodes)])\n",
    "# i = 0\n",
    "# for node in labeled_nodes:\n",
    "#     adlist = f_adj_list[node[1]]\n",
    "#     for edge in adlist:\n",
    "#         if edge[1] in idx_dict_positive:\n",
    "#             idx = idx_dict_positive[edge[1]]\n",
    "#         if idx < len(labeled_nodes):\n",
    "#             f_mat_labeled[i][idx] = 1\n",
    "#     i += 1"
   ]
  },
  {
   "cell_type": "code",
   "execution_count": 32,
   "metadata": {
    "collapsed": true
   },
   "outputs": [],
   "source": [
    "# t_mat_labeled = np.zeros([len(labeled_nodes),len(labeled_nodes)])\n",
    "# i = 0\n",
    "# for node in labeled_nodes:\n",
    "#     adlist = t_adj_list[node[1]]\n",
    "#     for edge in adlist:\n",
    "#         if edge[1] in idx_dict_positive:\n",
    "#             idx = idx_dict_positive[edge[1]]\n",
    "#         if idx < len(labeled_nodes):\n",
    "#             t_mat_labeled[i][idx] = 1\n",
    "#     i += 1"
   ]
  },
  {
   "cell_type": "code",
   "execution_count": 33,
   "metadata": {
    "collapsed": true
   },
   "outputs": [],
   "source": [
    "# fig = plt.figure()\n",
    "# plt.matshow(f_mat_labeled,cmap='Greys')\n",
    "# plt.savefig('f_matrix_positive3000.png', dpi=3000)"
   ]
  },
  {
   "cell_type": "code",
   "execution_count": 34,
   "metadata": {
    "collapsed": false
   },
   "outputs": [],
   "source": [
    "# fig = plt.figure()\n",
    "# plt.matshow(t_mat_labeled,cmap='Greys')\n",
    "# plt.savefig('t_matrix_positive3000.png', dpi=3000)"
   ]
  },
  {
   "cell_type": "code",
   "execution_count": null,
   "metadata": {
    "collapsed": true
   },
   "outputs": [],
   "source": []
  }
 ],
 "metadata": {
  "kernelspec": {
   "display_name": "Python 2",
   "language": "python",
   "name": "python2"
  },
  "language_info": {
   "codemirror_mode": {
    "name": "ipython",
    "version": 2
   },
   "file_extension": ".py",
   "mimetype": "text/x-python",
   "name": "python",
   "nbconvert_exporter": "python",
   "pygments_lexer": "ipython2",
   "version": "2.7.12"
  }
 },
 "nbformat": 4,
 "nbformat_minor": 0
}
