{
 "cells": [
  {
   "cell_type": "code",
   "execution_count": 2,
   "metadata": {
    "collapsed": false
   },
   "outputs": [],
   "source": [
    "from scipy import io as sio\n",
    "import numpy as np"
   ]
  },
  {
   "cell_type": "code",
   "execution_count": 3,
   "metadata": {
    "collapsed": true
   },
   "outputs": [],
   "source": [
    "mat_file_str=\"/Users/baroc/repos/VideoDetection/validation_set_meta/validation_set_meta/validation_set.mat\"\n",
    "mat = sio.loadmat(mat_file_str)"
   ]
  },
  {
   "cell_type": "code",
   "execution_count": 4,
   "metadata": {
    "collapsed": false
   },
   "outputs": [
    {
     "data": {
      "text/plain": [
       "{'__globals__': [],\n",
       " '__header__': 'MATLAB 5.0 MAT-file, Platform: PCWIN64, Created on: Wed Jul 30 21:56:24 2014',\n",
       " '__version__': '1.0',\n",
       " 'validation_videos': array([[ ([u'video_validation_0000001'], [u'How Do I Apply Eye Shadow to Almond-Shaped Eyes.mpeg'], [u'ApplyEyeMakeup'], [[1]], [], [], [u'NO'], [[261.588]], [[7845]], [[30]], [[180]], [[320]]),\n",
       "         ([u'video_validation_0000002'], [u'How To Apply Eye Makeup For Asian Eyes.mpeg'], [u'ApplyEyeMakeup'], [[1]], [], [], [u'NO'], [[250.695]], [[7518]], [[30]], [[180]], [[320]]),\n",
       "         ([u'video_validation_0000003'], [u'How To Apply Glitter Rhinestones Eye Makeup - Vegas Nay.mpeg'], [u'ApplyEyeMakeup'], [[1]], [], [], [u'NO'], [[383.763]], [[11510]], [[30]], [[180]], [[320]]),\n",
       "         ...,\n",
       "         ([u'video_validation_0001008'], [u'Wall Push-up.mpeg'], [u'WallPushups'], [[99]], [], [], [u'NO'], [[16.6119999]], [[495]], [[30]], [[180]], [[320]]),\n",
       "         ([u'video_validation_0001009'], [u'Wall Pushups.mpeg'], [u'WallPushups'], [[99]], [], [], [u'NO'], [[38.293]], [[1146]], [[30]], [[180]], [[320]]),\n",
       "         ([u'video_validation_0001010'], [u'wwwdiabeteswellnesscentercom-Wall Push Ups.mpeg'], [u'WallPushups'], [[99]], [], [], [u'NO'], [[72.305]], [[2166]], [[30]], [[180]], [[320]])]], \n",
       "       dtype=[('video_name', 'O'), ('YouTube_video_name', 'O'), ('primary_action', 'O'), ('primary_action_index', 'O'), ('secondary_actions', 'O'), ('secondary_actions_indices', 'O'), ('YouTube_video_name_includes_special_char', 'O'), ('video_duration_seconds', 'O'), ('number_of_frames', 'O'), ('frame_rate_FPS', 'O'), ('frame_height_pixels', 'O'), ('frame_width_pixels', 'O')])}"
      ]
     },
     "execution_count": 4,
     "metadata": {},
     "output_type": "execute_result"
    }
   ],
   "source": [
    "mat"
   ]
  },
  {
   "cell_type": "code",
   "execution_count": 11,
   "metadata": {
    "collapsed": false
   },
   "outputs": [
    {
     "name": "stdout",
     "output_type": "stream",
     "text": [
      "(1, 1010)\n"
     ]
    }
   ],
   "source": [
    "from pprint import pprint\n",
    "\n",
    "pprint(np.shape(mat['validation_videos']))"
   ]
  },
  {
   "cell_type": "code",
   "execution_count": 14,
   "metadata": {
    "collapsed": false
   },
   "outputs": [
    {
     "name": "stdout",
     "output_type": "stream",
     "text": [
      "array([ ([u'video_validation_0000001'], [u'How Do I Apply Eye Shadow to Almond-Shaped Eyes.mpeg'], [u'ApplyEyeMakeup'], [[1]], [], [], [u'NO'], [[261.588]], [[7845]], [[30]], [[180]], [[320]]),\n",
      "       ([u'video_validation_0000002'], [u'How To Apply Eye Makeup For Asian Eyes.mpeg'], [u'ApplyEyeMakeup'], [[1]], [], [], [u'NO'], [[250.695]], [[7518]], [[30]], [[180]], [[320]]),\n",
      "       ([u'video_validation_0000003'], [u'How To Apply Glitter Rhinestones Eye Makeup - Vegas Nay.mpeg'], [u'ApplyEyeMakeup'], [[1]], [], [], [u'NO'], [[383.763]], [[11510]], [[30]], [[180]], [[320]]),\n",
      "       ([u'video_validation_0000004'], [u'How to Apply Eye Makeup  Black Women Makeup.mpeg'], [u'ApplyEyeMakeup'], [[1]], [], [], [u'NO'], [[263.443]], [[7900]], [[30]], [[180]], [[320]]),\n",
      "       ([u'video_validation_0000005'], [u'How to Apply Eye Makeup for Deep-Set Eyes.mpeg'], [u'ApplyEyeMakeup'], [[1]], [], [], [u'NO'], [[151.012]], [[4527]], [[30]], [[180]], [[320]]),\n",
      "       ([u'video_validation_0000006'], [u'How to Apply Eye Makeup for Small Eyes.mpeg'], [u'ApplyEyeMakeup'], [[1]], [], [], [u'NO'], [[238.234]], [[7144]], [[30]], [[180]], [[320]]),\n",
      "       ([u'video_validation_0000007'], [u'How to Apply Eye Shadow  Flawless Face.mpeg'], [u'ApplyEyeMakeup'], [[1]], [], [], [u'NO'], [[373.496]], [[11202]], [[30]], [[180]], [[320]]),\n",
      "       ([u'video_validation_0000008'], [u'How to Apply Eye Shadow - Clinique Eyeshadow Powder.mpeg'], [u'ApplyEyeMakeup'], [[1]], [], [], [u'NO'], [[57.598]], [[1725]], [[30]], [[180]], [[320]]),\n",
      "       ([u'video_validation_0000009'], [u'How to Apply Eye Shadow to Eye Creases  Black Women Makeup.mpeg'], [u'ApplyEyeMakeup'], [[1]], [], [], [u'NO'], [[134.136]], [[4021]], [[30]], [[180]], [[320]]),\n",
      "       ([u'video_validation_0000010'], [u'How to Apply Under Eye Corrector & Concealer in Eye Hollows  - Makeup Techniques.mpeg'], [u'ApplyEyeMakeup'], [[1]], [], [], [u'NO'], [[183.874]], [[5513]], [[30]], [[180]], [[320]])], \n",
      "      dtype=[('video_name', 'O'), ('YouTube_video_name', 'O'), ('primary_action', 'O'), ('primary_action_index', 'O'), ('secondary_actions', 'O'), ('secondary_actions_indices', 'O'), ('YouTube_video_name_includes_special_char', 'O'), ('video_duration_seconds', 'O'), ('number_of_frames', 'O'), ('frame_rate_FPS', 'O'), ('frame_height_pixels', 'O'), ('frame_width_pixels', 'O')])\n"
     ]
    }
   ],
   "source": [
    "pprint(mat['validation_videos'][0][:10])"
   ]
  },
  {
   "cell_type": "markdown",
   "metadata": {},
   "source": [
    "The \"validation_videos\" is a \\\\(1\\times 1010\\\\) array. \n",
    "\n",
    "The \"dtype\" for each element is :\n",
    "[('video_name'), ('YouTube_video_name'), ('primary_action'), ('primary_action_index'), ('secondary_actions'), ('secondary_actions_indices'), ('YouTube_video_name_includes_special_char'), ('video_duration_seconds'), ('number_of_frames'), ('frame_rate_FPS'), ('frame_height_pixels'), ('frame_width_pixels')]\n",
    "\n",
    "The 'primary_action_index' and 'secondary_actions_indices' are indices for each label, same in the file 'class_index.txt' file. Primary action is always one, secondary actions might be multiple. \n",
    "\n"
   ]
  },
  {
   "cell_type": "code",
   "execution_count": 68,
   "metadata": {
    "collapsed": false
   },
   "outputs": [
    {
     "name": "stdout",
     "output_type": "stream",
     "text": [
      "array([ ([u'video_validation_0000001'], [u'How Do I Apply Eye Shadow to Almond-Shaped Eyes.mpeg'], [u'ApplyEyeMakeup'], [[1]], [], [], [u'NO'], [[261.588]], [[7845]], [[30]], [[180]], [[320]]),\n",
      "       ([u'video_validation_0000002'], [u'How To Apply Eye Makeup For Asian Eyes.mpeg'], [u'ApplyEyeMakeup'], [[1]], [], [], [u'NO'], [[250.695]], [[7518]], [[30]], [[180]], [[320]]),\n",
      "       ([u'video_validation_0000003'], [u'How To Apply Glitter Rhinestones Eye Makeup - Vegas Nay.mpeg'], [u'ApplyEyeMakeup'], [[1]], [], [], [u'NO'], [[383.763]], [[11510]], [[30]], [[180]], [[320]]),\n",
      "       ...,\n",
      "       ([u'video_validation_0001008'], [u'Wall Push-up.mpeg'], [u'WallPushups'], [[99]], [], [], [u'NO'], [[16.6119999]], [[495]], [[30]], [[180]], [[320]]),\n",
      "       ([u'video_validation_0001009'], [u'Wall Pushups.mpeg'], [u'WallPushups'], [[99]], [], [], [u'NO'], [[38.293]], [[1146]], [[30]], [[180]], [[320]]),\n",
      "       ([u'video_validation_0001010'], [u'wwwdiabeteswellnesscentercom-Wall Push Ups.mpeg'], [u'WallPushups'], [[99]], [], [], [u'NO'], [[72.305]], [[2166]], [[30]], [[180]], [[320]])], \n",
      "      dtype=[('video_name', 'O'), ('YouTube_video_name', 'O'), ('primary_action', 'O'), ('primary_action_index', 'O'), ('secondary_actions', 'O'), ('secondary_actions_indices', 'O'), ('YouTube_video_name_includes_special_char', 'O'), ('video_duration_seconds', 'O'), ('number_of_frames', 'O'), ('frame_rate_FPS', 'O'), ('frame_height_pixels', 'O'), ('frame_width_pixels', 'O')])\n",
      "\n",
      "\n",
      "\n",
      "\n",
      "\n",
      "([u'video_validation_0000102'], [u'Boxing Tips  - How to Punch a Boxing Bag.mpeg'], [u'BoxingPunchingBag'], [[17]], [[array([u'Punch'], \n",
      "      dtype='<U5')]], [[71]], [u'NO'], [[152.84]], [[4582]], [[30]], [[180]], [[320]])\n"
     ]
    }
   ],
   "source": [
    "meta_array = mat['validation_videos'][0]\n",
    "pprint(meta_array)\n",
    "print '\\n\\n\\n\\n'\n",
    "pprint(meta_array[101]) # type numpy.void"
   ]
  },
  {
   "cell_type": "code",
   "execution_count": 79,
   "metadata": {
    "collapsed": false
   },
   "outputs": [
    {
     "data": {
      "text/plain": [
       "30"
      ]
     },
     "execution_count": 79,
     "metadata": {},
     "output_type": "execute_result"
    }
   ],
   "source": [
    "meta_array[107][9][0][0]"
   ]
  },
  {
   "cell_type": "markdown",
   "metadata": {},
   "source": [
    "The data of trajectories shows that the last trajectory is 6227 if the length of video is 6228."
   ]
  },
  {
   "cell_type": "code",
   "execution_count": 63,
   "metadata": {
    "collapsed": true
   },
   "outputs": [],
   "source": [
    "l = range(1,4500+1,100)\n"
   ]
  },
  {
   "cell_type": "code",
   "execution_count": 64,
   "metadata": {
    "collapsed": false
   },
   "outputs": [
    {
     "data": {
      "text/plain": [
       "[1,\n",
       " 101,\n",
       " 201,\n",
       " 301,\n",
       " 401,\n",
       " 501,\n",
       " 601,\n",
       " 701,\n",
       " 801,\n",
       " 901,\n",
       " 1001,\n",
       " 1101,\n",
       " 1201,\n",
       " 1301,\n",
       " 1401,\n",
       " 1501,\n",
       " 1601,\n",
       " 1701,\n",
       " 1801,\n",
       " 1901,\n",
       " 2001,\n",
       " 2101,\n",
       " 2201,\n",
       " 2301,\n",
       " 2401,\n",
       " 2501,\n",
       " 2601,\n",
       " 2701,\n",
       " 2801,\n",
       " 2901,\n",
       " 3001,\n",
       " 3101,\n",
       " 3201,\n",
       " 3301,\n",
       " 3401,\n",
       " 3501,\n",
       " 3601,\n",
       " 3701,\n",
       " 3801,\n",
       " 3901,\n",
       " 4001,\n",
       " 4101,\n",
       " 4201,\n",
       " 4301,\n",
       " 4401,\n",
       " 4501]"
      ]
     },
     "execution_count": 64,
     "metadata": {},
     "output_type": "execute_result"
    }
   ],
   "source": [
    "l"
   ]
  },
  {
   "cell_type": "code",
   "execution_count": null,
   "metadata": {
    "collapsed": true
   },
   "outputs": [],
   "source": []
  }
 ],
 "metadata": {
  "kernelspec": {
   "display_name": "Python 2",
   "language": "python",
   "name": "python2"
  },
  "language_info": {
   "codemirror_mode": {
    "name": "ipython",
    "version": 2
   },
   "file_extension": ".py",
   "mimetype": "text/x-python",
   "name": "python",
   "nbconvert_exporter": "python",
   "pygments_lexer": "ipython2",
   "version": "2.7.12"
  }
 },
 "nbformat": 4,
 "nbformat_minor": 1
}
